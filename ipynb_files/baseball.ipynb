{
 "cells": [
  {
   "cell_type": "code",
   "execution_count": 1,
   "source": [
    "import path_setup\n",
    "#setup path to include external recourses\n",
    "nb_dir = path_setup.path_setup()\n",
    "data_dir = nb_dir + '/Data/'\n",
    "\n",
    "# The modules used for actually crunching the simulation numbers (nDim_Symbolic_Function, Integrator) were made by me and are\n",
    "# covered under the MIT free license. Please respect these terms and keep the license file with the code, Thank you!\n",
    "\n",
    "import nDim_Symbolic_Function as vfunc\n",
    "import matplotlib.pyplot as plt\n",
    "import Integrator as numInt\n",
    "import matplotlib as mpl\n",
    "import sympy as sym\n",
    "import numpy as np\n",
    "import torch\n",
    "import math\n",
    "\n",
    "# this is a major player in computational speed using c evaluatable lambda functions\n",
    "# Without this module, we lose about on the highend, on the order of 100 cpu cycles to return a result fronm python vs c lambdas\n",
    "from sympy.utilities.lambdify import lambdastr \n",
    "# set output precision so as to not spam the screen with long numbers\n",
    "np.set_printoptions(precision=2)\n",
    "# needs ipympl for realtime interactive displays using vs code\n",
    "from IPython.display import display, Markdown, Latex\n",
    "# Shebang line for interactive output in vs_code, comment this out if you have troubles running the notebook\n",
    "%matplotlib widget\n"
   ],
   "outputs": [],
   "metadata": {}
  },
  {
   "cell_type": "markdown",
   "source": [
    "# Variables and equations\n",
    "> Here I will setup the dependant and intependant variables to be used in the simulation of a baseball. I am using sympy to manage the equations in symbolic form and for CAS purposes (algebraic manipulation, reduction, transformations, etc...).\n",
    "> As a note, I am setting up my axis such that z is in the verticle direction (up to the sky and down to the center of the Earth), with the x-y plane forming the 'ground'\n",
    "# equations of the kinematics\n",
    "> I have elected to use just newtons laws for this, as we are not concerned with relativistic effects (and as a note I have had these effects for speeds as low as 1000m/s for a rocket problem I worked on once, this was supprising that the force addition required special relativity to compute properly). The Euler Cromer method that I have used is "
   ],
   "metadata": {}
  },
  {
   "cell_type": "code",
   "execution_count": 2,
   "source": [
    "t = sym.symbols('t')\n",
    "\n",
    "# Sympy Functions\n",
    "x = sym.Function('x')(t)\n",
    "y = sym.Function('y')(t)\n",
    "z = sym.Function('z')(t)\n",
    "\n",
    "# TODO : enable the evaluation of derivatives in the function, IE F=dxdt+9.81 or something\n",
    "\n",
    "dxdt = x.diff(t)\n",
    "dydt = y.diff(t)\n",
    "dzdt = z.diff(t)\n",
    "\n",
    "Cd = 0.35       # unitless coefficent of drag : https://blogs.fangraphs.com/exploring-the-variation-in-the-drag-coefficient-of-the-baseball/\n",
    "# according to this websight, the values of the Cd for a baseball depending on the season using a typical regulation baseball range from around\n",
    "# 0.3 to o.375 (unitless), So I will be using a 0.35 for Cd. This differs from the 0.45 of a perfect sphere due to surface imperfections causing\n",
    "# turbulance similar to a golfball, thereby lowering the Cd.\n",
    "rho = 1.205     # kg/m^3 <=> 1.205 g/L : this is the density of air at astp\n",
    "S_a = 0.004145  # m^2 : this is the minimum cross-sectional area of a regulation baseball, it was supprising to me that the top end of this can be \n",
    "# as much as 5% greater! A bit of a loose regulation if you ask me!\n",
    "drag_const = Cd*rho*S_a/2 # this is the constant for the drag equation\n",
    "print(f'The drag constant is equal to {drag_const} kg/m')\n",
    "\n",
    "# Force components in cartesian coords set equal to the mass times the acceleration and then later integrated numerically\n",
    "Fx = - drag_const*dxdt**2\n",
    "Fy = - drag_const*dydt**2\n",
    "Fz = - 9.81 - drag_const*dzdt**2 # assuming nominal Earth gravity in meters per second\n",
    "\n",
    "F_ = vfunc.nDim_Symbolic_Function([Fx,Fy,Fz],[dxdt,dydt,dzdt],[[dxdt],[dydt],[dzdt]])"
   ],
   "outputs": [
    {
     "output_type": "stream",
     "name": "stdout",
     "text": [
      "The drag constant is equal to 0.0008740768750000001 kg/m\n",
      "Variables in function [-0.000874076875*Derivative(x(t), t)**2, -0.000874076875*Derivative(y(t), t)**2, -0.000874076875*Derivative(z(t), t)**2 - 9.81]:\n",
      "\n",
      "Derivative(x(t), t)\n",
      "Derivative(y(t), t)\n",
      "Derivative(z(t), t)\n"
     ]
    }
   ],
   "metadata": {}
  },
  {
   "cell_type": "markdown",
   "source": [
    "# Choice of dt\n",
    "Looking up some numbers on wikipedia, the average MLB fastball is pitched at approximatly 41 meters per second. I will choose a dt such that there will be on the order of a millimeter of movement or less at pitched speed per simulation timeslice. This happens to work out to just under 25microseconds, so I will round to 25 milliseconds for nice even whole numbers that divide base 10 nicely (or at least I think 25 is a nice number)."
   ],
   "metadata": {}
  },
  {
   "cell_type": "code",
   "execution_count": 3,
   "source": [
    "real_time = 10 #int(input('Enter durration of time in seconds to simulate: '))\n",
    "\n",
    "dt = 2.5E-02# seconds\n",
    "\n",
    "# The variable time_slice sets the output frequency so that we are not capturing more data then needed from the\n",
    "# simulation, IE we dont need to follow the baseball every millimeter, but looking at it in say 5 centimeter\n",
    "# increments is much less data by an order of magnitude or more, but gives a proper picture of the ball moving overall\n",
    "# With this in mind, I set the output time step at 1 second after a little bit of experimenting and this seems to be a\n",
    "# good compromise between granularity and memory for longer running simulations (say, a minute of real time or more).\n",
    "output_time_step = 1 # second\n",
    "Vx = 45*np.cos(np.pi/4)*np.sin(np.pi/4)\n",
    "Vy = 45*np.sin(np.pi/4)**2\n",
    "Vz = 45*np.sin(np.pi/4)\n",
    "print(f'The initial speed is {np.sqrt(Vx**2+Vy**2+Vz**2)} meters per second')\n",
    "F = numInt.Integrator(F_,0,real_time,output_time_step,dt,0,0,2,Vx,Vy,Vz)"
   ],
   "outputs": [
    {
     "output_type": "stream",
     "name": "stdout",
     "text": [
      "The initial speed is 44.99999999999999 meters per second\n",
      "the output step size is 40\n"
     ]
    }
   ],
   "metadata": {}
  },
  {
   "cell_type": "markdown",
   "source": [
    "# Simulation and plotting results\n",
    "> I have elected to use the Euler cromer method here because it is reasonably fast (faster than RK4) and has more accuracy than the standard Eulers method. To be honest though, there isn't much difference between the two in terms of computational speed or accuract with this sumulation so "
   ],
   "metadata": {}
  },
  {
   "cell_type": "code",
   "execution_count": 4,
   "source": [
    "fig, ax = plt.subplots(1,2,constrained_layout=True)\n",
    "ax = plt.axes(projection ='3d')\n",
    "\n",
    "plot_vals_1 = F.RK4(check_val=True)\n",
    "ax.plot3D(plot_vals_1[:,0], plot_vals_1[:,1], plot_vals_1[:,2], 'green')\n",
    "# ax[1].set_aspect('equal', adjustable='box')\n",
    "\n",
    "plt.show()\n",
    "del F"
   ],
   "outputs": [
    {
     "output_type": "display_data",
     "data": {
      "text/plain": [
       "Canvas(toolbar=Toolbar(toolitems=[('Home', 'Reset original view', 'home', 'home'), ('Back', 'Back to previous …"
      ],
      "application/vnd.jupyter.widget-view+json": {
       "version_major": 2,
       "version_minor": 0,
       "model_id": "ba547e26ceeb45429c574fd605babc04"
      }
     },
     "metadata": {}
    },
    {
     "output_type": "stream",
     "name": "stdout",
     "text": [
      "Runge Kutta 4 method...\n",
      "Completed in 0:00:00.940141!\n"
     ]
    }
   ],
   "metadata": {}
  }
 ],
 "metadata": {
  "orig_nbformat": 4,
  "language_info": {
   "name": "python",
   "version": "3.8.8",
   "mimetype": "text/x-python",
   "codemirror_mode": {
    "name": "ipython",
    "version": 3
   },
   "pygments_lexer": "ipython3",
   "nbconvert_exporter": "python",
   "file_extension": ".py"
  },
  "kernelspec": {
   "name": "python3",
   "display_name": "Python 3.8.8 64-bit ('PHYS': conda)"
  },
  "interpreter": {
   "hash": "48d45dcace808a2ead5555a1dcf217405b4fc6e6e86b5486b0745c3d142a5fa9"
  }
 },
 "nbformat": 4,
 "nbformat_minor": 2
}