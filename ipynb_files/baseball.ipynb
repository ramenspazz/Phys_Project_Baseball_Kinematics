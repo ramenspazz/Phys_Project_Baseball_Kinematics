{
 "cells": [
  {
   "cell_type": "code",
   "execution_count": 13,
   "source": [
    "import path_setup\n",
    "#setup path to include external recourses\n",
    "nb_dir = path_setup.path_setup()\n",
    "data_dir = nb_dir + '/Data/'\n",
    "\n",
    "# The modules used for actually crunching the simulation numbers (nDim_Symbolic_Function, Integrator) were made by me and are\n",
    "# covered under the MIT free license. Please respect these terms and keep the license file with the code, Thank you!\n",
    "\n",
    "import nDim_Symbolic_Function as vfunc\n",
    "import matplotlib.pyplot as plt\n",
    "import Integrator as numInt\n",
    "import matplotlib as mpl\n",
    "import sympy as sym\n",
    "import numpy as np\n",
    "import torch\n",
    "import math\n",
    "\n",
    "# this is a major player in computational speed using c evaluatable lambda functions\n",
    "# Without this module, we lose about on the highend, on the order of 100 cpu cycles to return a result fronm python vs c lambdas\n",
    "from sympy.utilities.lambdify import lambdastr \n",
    "# set output precision so as to not spam the screen with long numbers\n",
    "np.set_printoptions(precision=2)\n",
    "# needs ipympl for realtime interactive displays using vs code\n",
    "from IPython.display import display, Markdown, Latex\n",
    "# Shebang line for interactive output in vs_code, comment this out if you have troubles running the notebook\n",
    "%matplotlib widget\n"
   ],
   "outputs": [],
   "metadata": {}
  },
  {
   "cell_type": "markdown",
   "source": [
    "# Variables and equations\n",
    "> Here I will setup the dependant and intependant variables to be used in the simulation of a baseball. I am using sympy to manage the equations in symbolic form and for CAS purposes (algebraic manipulation, reduction, transformations, etc...).\n",
    "> As a note, I am setting up my axis such that z is in the verticle direction (up to the sky and down to the center of the Earth), with the x-y plane forming the 'ground'\n",
    "# equations of the kinematics\n",
    "> I have elected to use just newtons laws for this, as we are not concerned with relativistic effects (and as a note I have had these effects for speeds as low as 1000m/s for a rocket problem I worked on once, this was supprising that the force addition required special relativity to compute properly). The Euler Cromer method that I have used is "
   ],
   "metadata": {}
  },
  {
   "cell_type": "code",
   "execution_count": 14,
   "source": [
    "t = sym.symbols('t')\n",
    "\n",
    "# Sympy Functions\n",
    "x = sym.Function('x')(t)\n",
    "y = sym.Function('y')(t)\n",
    "z = sym.Function('z')(t)\n",
    "\n",
    "dxdt = x.diff(t)\n",
    "dydt = y.diff(t)\n",
    "dzdt = z.diff(t)\n",
    "\n",
    "Cd = 0.35       # unitless coefficent of drag : https://blogs.fangraphs.com/exploring-the-variation-in-the-drag-coefficient-of-the-baseball/\n",
    "# according to this websight, the values of the Cd for a baseball depending on the season using a typical regulation baseball range from around\n",
    "# 0.3 to o.375 (unitless), So I will be using a 0.35 for Cd. This differs from the 0.45 of a perfect sphere due to surface imperfections causing\n",
    "# turbulance similar to a golfball, thereby lowering the Cd.\n",
    "rho = 1.205     # kg/m^3 <=> 1.205 g/L : this is the density of air at astp\n",
    "S_a = 0.004145  # m^2 : this is the minimum cross-sectional area of a regulation baseball, it was supprising to me that the top end of this can be \n",
    "# as much as 5% greater! A bit of a loose regulation if you ask me!\n",
    "drag_const = Cd*rho*S_a/2 # this is the constant for the drag equation\n",
    "print(f'The drag constant is equal to {drag_const} kg/m')\n",
    "\n",
    "# Force components in cartesian coords set equal to the mass times the acceleration and then later integrated numerically\n",
    "Fx = - drag_const*dxdt**2\n",
    "Fy = - drag_const*dydt**2\n",
    "Fz = - 9.81 - drag_const*dzdt**2 # assuming nominal Earth gravity in meters per second\n",
    "\n",
    "F_ = vfunc.nDim_Symbolic_Function([Fx,Fy,Fz],[dxdt,dydt,dzdt],[[dxdt],[dydt],[dzdt]])"
   ],
   "outputs": [
    {
     "output_type": "stream",
     "name": "stdout",
     "text": [
      "The drag constant is equal to 0.0008740768750000001 kg/m\n"
     ]
    }
   ],
   "metadata": {}
  },
  {
   "cell_type": "markdown",
   "source": [
    "# Choice of dt\n",
    "Looking up some numbers on wikipedia, the average MLB fastball is pitched at approximatly 41 meters per second. I chose a dt such that there will be on the order of a centimeter of movement or less at pitched speed per simulation timeslice. This happens to work out to just about 250microseconds with rounding and gives nice numbers to work for the simulation."
   ],
   "metadata": {}
  },
  {
   "cell_type": "code",
   "execution_count": 15,
   "source": [
    "real_time = int(input('Enter durration of (positive integer) time in seconds to simulate: '))\n",
    "\n",
    "dt = 2.5E-03# seconds\n",
    "\n",
    "# The variable time_slice sets the output frequency so that we are not capturing more data then needed from the\n",
    "# simulation, IE we dont need to follow the baseball every millimeter, but looking at it in say 5 centimeter\n",
    "# increments is much less data by an order of magnitude or more, but gives a proper picture of the ball moving overall\n",
    "# With this in mind, I set the output time step at 1 second after a little bit of experimenting and this seems to be a\n",
    "# good compromise between granularity and memory for longer running simulations (say, a minute of real time or more).\n",
    "output_time_step = 1 # second\n",
    "\n",
    "# initial conditions\n",
    "# We throw the baseball such that we can see it has proper behavior in 3D, it is thrown at a pi/4 angle from the xy plane and at a pi/4 angle from the xz plane.\n",
    "V_mag = 44.7 # m/s <=> 100mph\n",
    "theta = np.pi/4\n",
    "phi = np.pi/3\n",
    "Vx = V_mag*np.cos(theta)*np.sin(phi)\n",
    "Vy = V_mag*np.sin(theta)*np.sin(phi)\n",
    "Vz = V_mag*np.cos(phi)\n",
    "x_0 = 0\n",
    "y_0 = 0\n",
    "z_0 = 1.8288 # meters. Eew american freedom units make messy numbers lol\n",
    "\n",
    "print(f'The initial speed is {np.sqrt(Vx**2+Vy**2+Vz**2)} meters per second')\n",
    "\n",
    "F = numInt.Integrator(F_,0,real_time,output_time_step,dt,x_0,y_0,z_0,Vx,Vy,Vz)"
   ],
   "outputs": [
    {
     "output_type": "stream",
     "name": "stdout",
     "text": [
      "The initial speed is 44.7 meters per second\n",
      "the output step size is 400\n"
     ]
    }
   ],
   "metadata": {}
  },
  {
   "cell_type": "markdown",
   "source": [
    "# Simulation and plotting results\n",
    "> I reccomend the Euler cromer method here because it is reasonably fast at an average of 1.500132 seconds runtime for a dt of 2.5E-03 seconds for a 10 second total simulation (faster than RK4 which runs at an average of 6.263453 seconds but has a much greater accuracy for lower dt) and has (SLIGHTLLLLLLY pretty much negligibly) more accuracy than the standard Eulers method. To be honest though, there isn't much difference between the two in terms of computational speed or accuract with this sumulation. I do have one bug right now regarding repeat simulations, IE: running a F.Euler simulation, them immediatly running another simulaton causes it to reuse variables. IF you want to see the other two outputs (Euler and RK4), please change the line plot_vals_1 = F.Euler_Cromer(check_val=True) to plot_vals_1 = F.Euler(check_val=True) or plot_vals_1 = F.RK4(check_val=True) and then rerun the whole notebook. Other than this glitch the progam works.\n",
    "\n",
    "With all of this said, if RK4 is used, the dt can be as large as ~1 second and still provide what appears to be reasonable output as opposed to the Euler and Euler_Cromer which then begin to give garbage output, with all three methods running in approximatly the same amount of time at this dt.\n",
    "\n"
   ],
   "metadata": {}
  },
  {
   "cell_type": "code",
   "execution_count": 16,
   "source": [
    "fig, ax = plt.subplots(1,2,constrained_layout=True)\n",
    "ax = plt.axes(projection ='3d')\n",
    "\n",
    "plot_vals_1 = F.Euler_Cromer(check_val=True) # this line can be changed to F.Euler, F.Euler_Cromer, or F.RK4 to test the different methods if you so wish\n",
    "ax.plot3D(plot_vals_1[:,0], plot_vals_1[:,1], plot_vals_1[:,2], 'green')\n",
    "plt.show()\n",
    "\n",
    "del F"
   ],
   "outputs": [
    {
     "output_type": "display_data",
     "data": {
      "text/plain": [
       "Canvas(toolbar=Toolbar(toolitems=[('Home', 'Reset original view', 'home', 'home'), ('Back', 'Back to previous …"
      ],
      "application/vnd.jupyter.widget-view+json": {
       "version_major": 2,
       "version_minor": 0,
       "model_id": "2fd064b3af2844edb70bc5a80a91b760"
      }
     },
     "metadata": {}
    },
    {
     "output_type": "stream",
     "name": "stdout",
     "text": [
      "Euler-Cromer method...\n",
      "Completed in 0:00:02.657624!\n"
     ]
    }
   ],
   "metadata": {}
  }
 ],
 "metadata": {
  "orig_nbformat": 4,
  "language_info": {
   "name": "python",
   "version": "3.8.8",
   "mimetype": "text/x-python",
   "codemirror_mode": {
    "name": "ipython",
    "version": 3
   },
   "pygments_lexer": "ipython3",
   "nbconvert_exporter": "python",
   "file_extension": ".py"
  },
  "kernelspec": {
   "name": "python3",
   "display_name": "Python 3.8.8 64-bit ('PHYS': conda)"
  },
  "interpreter": {
   "hash": "48d45dcace808a2ead5555a1dcf217405b4fc6e6e86b5486b0745c3d142a5fa9"
  }
 },
 "nbformat": 4,
 "nbformat_minor": 2
}